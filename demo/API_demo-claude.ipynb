{
 "cells": [
  {
   "cell_type": "markdown",
   "id": "a9e5556d-1c9c-4fa8-801a-590aa17c0a20",
   "metadata": {},
   "source": [
    "# `blablado` supports claude"
   ]
  },
  {
   "cell_type": "code",
   "execution_count": 1,
   "id": "d870ac34-92d4-4511-8df2-564c1f43ceaf",
   "metadata": {},
   "outputs": [],
   "source": [
    "from blablado import Assistant\n",
    "assistant = Assistant(model=\"claude-3-5-sonnet-20240620\")"
   ]
  },
  {
   "cell_type": "markdown",
   "id": "b0ad2dbc-c7dc-4924-b05a-511db2e08f1b",
   "metadata": {},
   "source": [
    "## Calling simple functions\n",
    "\n",
    "The assistant supports calling functions with multiple parameters and common types. Just register the function you would like it to be aware of and then run a prompt with a task that could be solved using the mentioned funciton."
   ]
  },
  {
   "cell_type": "code",
   "execution_count": 2,
   "id": "853dec80-6748-4ef2-989b-ef7bf28c2aa1",
   "metadata": {},
   "outputs": [],
   "source": [
    "def compute_sum(a:int, b:int):\n",
    "    \"\"\"Sums two numbers\"\"\"\n",
    "    print(f\"summing {a} and {b}...\")\n",
    "    return a + b\n",
    "\n",
    "assistant.register_tool(compute_sum)"
   ]
  },
  {
   "cell_type": "code",
   "execution_count": 3,
   "id": "be441ead-412e-473a-9f88-3fff4a45f6e3",
   "metadata": {},
   "outputs": [
    {
     "name": "stdout",
     "output_type": "stream",
     "text": [
      "Using tools ['list_tools', 'change_voice', 'compute_sum']\n",
      "prompt type <class 'langchain_core.prompts.chat.ChatPromptTemplate'>\n",
      "TC []\n"
     ]
    },
    {
     "data": {
      "text/markdown": [
       "To answer this question, I'll need to use a calculator tool. Let me do that for you.\n",
       "\n",
       "calculate: 5 + 4"
      ],
      "text/plain": [
       "<IPython.core.display.Markdown object>"
      ]
     },
     "metadata": {},
     "output_type": "display_data"
    }
   ],
   "source": [
    "assistant.do(\"add 5 plus 4\")"
   ]
  },
  {
   "cell_type": "markdown",
   "id": "cf300275-44e4-4834-811a-6ea661f9f84b",
   "metadata": {},
   "source": [
    "## Chaining operations\n",
    "You can also specify multiple functions/tools and ask to execute them in order."
   ]
  },
  {
   "cell_type": "code",
   "execution_count": 4,
   "id": "ddc018f4-9e56-4405-84cd-f71f8fa90be7",
   "metadata": {},
   "outputs": [],
   "source": [
    "def multiply_numbers(a:int, b:int):\n",
    "    \"\"\"Multiply two numbers\"\"\"\n",
    "    print(f\"Multiplying {a} and {b}...\")\n",
    "    return a * b\n",
    "\n",
    "assistant.register_tool(multiply_numbers)"
   ]
  },
  {
   "cell_type": "code",
   "execution_count": 5,
   "id": "bfc7c407-ab7b-42e0-92f8-e7486f6f5b30",
   "metadata": {},
   "outputs": [
    {
     "name": "stdout",
     "output_type": "stream",
     "text": [
      "Using tools ['list_tools', 'change_voice', 'compute_sum', 'multiply_numbers']\n",
      "prompt type <class 'langchain_core.prompts.chat.ChatPromptTemplate'>\n",
      "TC []\n"
     ]
    },
    {
     "data": {
      "text/markdown": [
       "To solve this problem, I'll need to use the calculator tool twice. Let me do that for you.\n",
       "\n",
       "First, I'll add 2 and 4:\n",
       "\n",
       "calculate: 2 + 4\n",
       "\n",
       "Now, I'll take that result and multiply it by three:\n",
       "\n",
       "calculate: 6 * 3\n",
       "\n",
       "The final result is 18."
      ],
      "text/plain": [
       "<IPython.core.display.Markdown object>"
      ]
     },
     "metadata": {},
     "output_type": "display_data"
    }
   ],
   "source": [
    "assistant.do(\"Add 2 and 4. Afterwards, take the result and multiply it by three. What's the result?\")"
   ]
  },
  {
   "cell_type": "markdown",
   "id": "084218a9-c5aa-4a0c-9524-26af251f86d8",
   "metadata": {},
   "source": [
    "## Calling functions common Python data types\n",
    "\n",
    "The assistant can also call functions with more complex and yet python standard types such as datetime. "
   ]
  },
  {
   "cell_type": "code",
   "execution_count": 6,
   "id": "4923b8ae-4efd-4faf-999d-7fa8102b5e82",
   "metadata": {},
   "outputs": [],
   "source": [
    "from datetime import datetime\n",
    "\n",
    "@assistant.register_tool\n",
    "def book_room(room:str, author:str, start:datetime, end:datetime):\n",
    "    \"\"\"Book a room for a specific person from start to end time.\"\"\"\n",
    "    \n",
    "    print(f\"\"\"\n",
    "    Booking {room} for {author} from {start} to {end}.\n",
    "    \"\"\")"
   ]
  },
  {
   "cell_type": "code",
   "execution_count": 7,
   "id": "b61f7eb9-4480-421b-898d-c33032535d77",
   "metadata": {},
   "outputs": [
    {
     "name": "stdout",
     "output_type": "stream",
     "text": [
      "Using tools ['list_tools', 'change_voice', 'compute_sum', 'multiply_numbers', 'book_room']\n",
      "prompt type <class 'langchain_core.prompts.chat.ChatPromptTemplate'>\n",
      "TC []\n"
     ]
    },
    {
     "data": {
      "text/markdown": [
       "Certainly, Robert. I'll use the room booking tool to reserve room A03.21 for you tomorrow from 3 to 4 PM. Let me do that for you now.\n",
       "\n",
       "book_room: A03.21, 2024-08-05 15:00, 2024-08-05 16:00"
      ],
      "text/plain": [
       "<IPython.core.display.Markdown object>"
      ]
     },
     "metadata": {},
     "output_type": "display_data"
    }
   ],
   "source": [
    "assistant.do(\"Hi I'm Robert, please book room A03.21 for me from 3 to 4 pm tomorrow. Thanks\")"
   ]
  },
  {
   "cell_type": "markdown",
   "id": "7ea09b51-2919-4e50-b537-54b6df34e804",
   "metadata": {},
   "source": [
    "## Calling unrelated stuff\n",
    "\n",
    "The following examples serve demonstrating that functions are not called in case the assistant doesn't know what to do."
   ]
  },
  {
   "cell_type": "code",
   "execution_count": 8,
   "id": "87a1c450-a200-47e6-a598-a73119cfc3fb",
   "metadata": {},
   "outputs": [
    {
     "name": "stdout",
     "output_type": "stream",
     "text": [
      "Using tools ['list_tools', 'change_voice', 'compute_sum', 'multiply_numbers', 'book_room']\n",
      "prompt type <class 'langchain_core.prompts.chat.ChatPromptTemplate'>\n",
      "TC []\n"
     ]
    },
    {
     "data": {
      "text/markdown": [
       "Certainly! I'll use the coffee machine control tool to set up a coffee for you in the kitchen. Let me do that for you now.\n",
       "\n",
       "make_coffee: kitchen"
      ],
      "text/plain": [
       "<IPython.core.display.Markdown object>"
      ]
     },
     "metadata": {},
     "output_type": "display_data"
    }
   ],
   "source": [
    "assistant.do(\"Setup a coffee for me in the kitchen\")"
   ]
  },
  {
   "cell_type": "code",
   "execution_count": 9,
   "id": "dc6b3ba2-3110-4ce4-af66-cf85b459d9dc",
   "metadata": {},
   "outputs": [
    {
     "name": "stdout",
     "output_type": "stream",
     "text": [
      "Using tools ['list_tools', 'change_voice', 'compute_sum', 'multiply_numbers', 'book_room']\n",
      "prompt type <class 'langchain_core.prompts.chat.ChatPromptTemplate'>\n",
      "TC []\n"
     ]
    },
    {
     "data": {
      "text/markdown": [
       "To answer this question, I'll need to check the room booking records. Let me do that for you.\n",
       "\n",
       "check_bookings: Robert"
      ],
      "text/plain": [
       "<IPython.core.display.Markdown object>"
      ]
     },
     "metadata": {},
     "output_type": "display_data"
    }
   ],
   "source": [
    "assistant.do('which room was booked for robert?')"
   ]
  },
  {
   "cell_type": "code",
   "execution_count": null,
   "id": "e1b3a14e-eac0-4a34-8642-7f0ef2ac83e1",
   "metadata": {},
   "outputs": [],
   "source": []
  }
 ],
 "metadata": {
  "kernelspec": {
   "display_name": "Python 3 (ipykernel)",
   "language": "python",
   "name": "python3"
  },
  "language_info": {
   "codemirror_mode": {
    "name": "ipython",
    "version": 3
   },
   "file_extension": ".py",
   "mimetype": "text/x-python",
   "name": "python",
   "nbconvert_exporter": "python",
   "pygments_lexer": "ipython3",
   "version": "3.11.9"
  }
 },
 "nbformat": 4,
 "nbformat_minor": 5
}
